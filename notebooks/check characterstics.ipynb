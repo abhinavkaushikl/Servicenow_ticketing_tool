import pandas as pd
import matplotlib.pyplot as plt
import seaborn as sns

# Load dataset - update the path as needed
df = pd.read_csv(r'C:\Users\kau75421\ITSM SLA Optimzers\data\raw\itsm_sla_tickets_dataset_extended.csv')

print("===== Dataset Overview =====")
print(f"Total records: {len(df)}\n")
print(df.info())
print("\n")

# Target variable
target_col = 'SLA Breach'  # Expected True/False or 1/0

print(f"===== Target Variable Distribution ({target_col}) =====")
print(df[target_col].value_counts())
print("\nPercentage distribution:")
print(df[target_col].value_counts(normalize=True) * 100)

# Plot target distribution
plt.figure(figsize=(6,4))
sns.countplot(x=target_col, data=df)
plt.title("Target Variable Distribution")
plt.show()

# Check missing values
print("\n===== Missing Values per Column =====")
missing = df.isnull().sum()
print(missing[missing > 0].sort_values(ascending=False))

# Select columns for quick analysis (update as per your dataset)
categorical_features = [
    'Priority', 'Impact Level', 'Ticket Type', 'Root Cause Category',
    'Technician Skill Level', 'Customer Segment', 'Contract Type', 'Escalation Level'
]

numeric_features = [
    'Response Time (minutes)', 'Resolution Time (hours)',
    'Reopened Count', 'Customer Satisfaction Score (CSAT)', 'Penalty Cost'
]

print("\n===== Sample Categorical Feature Value Counts =====")
for col in categorical_features:
    if col in df.columns:
        print(f"\nColumn: {col}")
        print(df[col].value_counts().head(10))

print("\n===== Numeric Feature Summary Statistics =====")
print(df[numeric_features].describe())

# Plot numeric feature distributions
for col in numeric_features:
    if col in df.columns:
        plt.figure(figsize=(6,4))
        sns.histplot(df[col].dropna(), kde=True, bins=30)
        plt.title(f"Distribution of {col}")
        plt.show()

# Correlation matrix for numeric features and target
print("\n===== Correlation Matrix =====")
corr = df[numeric_features + [target_col]].corr()
print(corr[target_col].sort_values(ascending=False))

plt.figure(figsize=(10, 6))
sns.heatmap(corr, annot=True, fmt=".2f", cmap="coolwarm")
plt.title("Correlation Matrix")
plt.show()

# Group target rate by categorical features (to find feature impact)
print("\n===== Target Rate by Categorical Features =====")
for col in categorical_features:
    if col in df.columns:
        group = df.groupby(col)[target_col].mean().sort_values(ascending=False)
        print(f"\n{col} - mean {target_col} rate:")
        print(group)

# Summary
print("\n===== Summary =====")
print("""
- Target variable distribution shows the imbalance ratio.
- Missing values found in above columns.
- Check distributions to detect outliers or skew.
- Correlations hint at important numeric features.
- Target rates by categories suggest impactful variables.

Next steps:
- Handle missing values.
- Encode categorical variables.
- Address class imbalance if needed.
- Proceed to model training with chosen features.
""")
